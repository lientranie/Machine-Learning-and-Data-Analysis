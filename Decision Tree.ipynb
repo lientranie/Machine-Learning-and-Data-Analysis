{
 "cells": [
  {
   "cell_type": "code",
   "execution_count": 1,
   "metadata": {},
   "outputs": [],
   "source": [
    "import numpy as np \n",
    "import pandas as pd\n",
    "from sklearn.tree import DecisionTreeClassifier"
   ]
  },
  {
   "cell_type": "code",
   "execution_count": 2,
   "metadata": {},
   "outputs": [],
   "source": [
    "ulr = ('https://s3-api.us-geo.objectstorage.softlayer.net/cf-courses-data/CognitiveClass/ML0101ENv3/labs/drug200.csv')"
   ]
  },
  {
   "cell_type": "code",
   "execution_count": 3,
   "metadata": {},
   "outputs": [],
   "source": [
    "df = pd.read_csv(ulr, delimiter=\",\")"
   ]
  },
  {
   "cell_type": "code",
   "execution_count": 4,
   "metadata": {},
   "outputs": [
    {
     "data": {
      "text/html": [
       "<div>\n",
       "<style scoped>\n",
       "    .dataframe tbody tr th:only-of-type {\n",
       "        vertical-align: middle;\n",
       "    }\n",
       "\n",
       "    .dataframe tbody tr th {\n",
       "        vertical-align: top;\n",
       "    }\n",
       "\n",
       "    .dataframe thead th {\n",
       "        text-align: right;\n",
       "    }\n",
       "</style>\n",
       "<table border=\"1\" class=\"dataframe\">\n",
       "  <thead>\n",
       "    <tr style=\"text-align: right;\">\n",
       "      <th></th>\n",
       "      <th>Age</th>\n",
       "      <th>Sex</th>\n",
       "      <th>BP</th>\n",
       "      <th>Cholesterol</th>\n",
       "      <th>Na_to_K</th>\n",
       "      <th>Drug</th>\n",
       "    </tr>\n",
       "  </thead>\n",
       "  <tbody>\n",
       "    <tr>\n",
       "      <th>0</th>\n",
       "      <td>23</td>\n",
       "      <td>F</td>\n",
       "      <td>HIGH</td>\n",
       "      <td>HIGH</td>\n",
       "      <td>25.355</td>\n",
       "      <td>drugY</td>\n",
       "    </tr>\n",
       "    <tr>\n",
       "      <th>1</th>\n",
       "      <td>47</td>\n",
       "      <td>M</td>\n",
       "      <td>LOW</td>\n",
       "      <td>HIGH</td>\n",
       "      <td>13.093</td>\n",
       "      <td>drugC</td>\n",
       "    </tr>\n",
       "    <tr>\n",
       "      <th>2</th>\n",
       "      <td>47</td>\n",
       "      <td>M</td>\n",
       "      <td>LOW</td>\n",
       "      <td>HIGH</td>\n",
       "      <td>10.114</td>\n",
       "      <td>drugC</td>\n",
       "    </tr>\n",
       "    <tr>\n",
       "      <th>3</th>\n",
       "      <td>28</td>\n",
       "      <td>F</td>\n",
       "      <td>NORMAL</td>\n",
       "      <td>HIGH</td>\n",
       "      <td>7.798</td>\n",
       "      <td>drugX</td>\n",
       "    </tr>\n",
       "    <tr>\n",
       "      <th>4</th>\n",
       "      <td>61</td>\n",
       "      <td>F</td>\n",
       "      <td>LOW</td>\n",
       "      <td>HIGH</td>\n",
       "      <td>18.043</td>\n",
       "      <td>drugY</td>\n",
       "    </tr>\n",
       "  </tbody>\n",
       "</table>\n",
       "</div>"
      ],
      "text/plain": [
       "   Age Sex      BP Cholesterol  Na_to_K   Drug\n",
       "0   23   F    HIGH        HIGH   25.355  drugY\n",
       "1   47   M     LOW        HIGH   13.093  drugC\n",
       "2   47   M     LOW        HIGH   10.114  drugC\n",
       "3   28   F  NORMAL        HIGH    7.798  drugX\n",
       "4   61   F     LOW        HIGH   18.043  drugY"
      ]
     },
     "execution_count": 4,
     "metadata": {},
     "output_type": "execute_result"
    }
   ],
   "source": [
    "# summarize the data\n",
    "df.head()"
   ]
  },
  {
   "cell_type": "code",
   "execution_count": 5,
   "metadata": {},
   "outputs": [],
   "source": [
    "# Feature Matrix\n",
    "X = df[['Age', 'Sex', 'BP', 'Cholesterol', 'Na_to_K']].values"
   ]
  },
  {
   "cell_type": "code",
   "execution_count": 6,
   "metadata": {},
   "outputs": [
    {
     "data": {
      "text/plain": [
       "array([[23, 0, 0, 0, 25.355],\n",
       "       [47, 1, 1, 0, 13.093],\n",
       "       [47, 1, 1, 0, 10.113999999999999],\n",
       "       [28, 0, 2, 0, 7.797999999999999],\n",
       "       [61, 0, 1, 0, 18.043]], dtype=object)"
      ]
     },
     "execution_count": 6,
     "metadata": {},
     "output_type": "execute_result"
    }
   ],
   "source": [
    "from sklearn import preprocessing\n",
    "le_sex = preprocessing.LabelEncoder()\n",
    "le_sex.fit(['F','M'])\n",
    "X[:,1] = le_sex.transform(X[:,1]) \n",
    "\n",
    "\n",
    "le_BP = preprocessing.LabelEncoder()\n",
    "le_BP.fit([ 'LOW', 'NORMAL', 'HIGH'])\n",
    "X[:,2] = le_BP.transform(X[:,2])\n",
    "\n",
    "\n",
    "le_Chol = preprocessing.LabelEncoder()\n",
    "le_Chol.fit([ 'NORMAL', 'HIGH'])\n",
    "X[:,3] = le_Chol.transform(X[:,3]) \n",
    "\n",
    "X[0:5]"
   ]
  },
  {
   "cell_type": "code",
   "execution_count": 7,
   "metadata": {},
   "outputs": [],
   "source": [
    "y = df[\"Drug\"]"
   ]
  },
  {
   "cell_type": "code",
   "execution_count": 8,
   "metadata": {},
   "outputs": [],
   "source": [
    "from sklearn.model_selection import train_test_split"
   ]
  },
  {
   "cell_type": "markdown",
   "metadata": {},
   "source": [
    "The X and y are the arrays required before the split, the test_size represents the ratio of the testing dataset, and the random_state ensures that we obtain the same splits."
   ]
  },
  {
   "cell_type": "code",
   "execution_count": 9,
   "metadata": {},
   "outputs": [],
   "source": [
    "X_trainset, X_testset, y_trainset, y_testset = train_test_split(X, y, test_size=0.3, random_state=3)"
   ]
  },
  {
   "cell_type": "code",
   "execution_count": 10,
   "metadata": {},
   "outputs": [
    {
     "data": {
      "text/plain": [
       "DecisionTreeClassifier(class_weight=None, criterion='entropy', max_depth=4,\n",
       "                       max_features=None, max_leaf_nodes=None,\n",
       "                       min_impurity_decrease=0.0, min_impurity_split=None,\n",
       "                       min_samples_leaf=1, min_samples_split=2,\n",
       "                       min_weight_fraction_leaf=0.0, presort=False,\n",
       "                       random_state=None, splitter='best')"
      ]
     },
     "execution_count": 10,
     "metadata": {},
     "output_type": "execute_result"
    }
   ],
   "source": [
    "drugTree = DecisionTreeClassifier(criterion=\"entropy\", max_depth = 4)\n",
    "drugTree # it shows the default parameters"
   ]
  },
  {
   "cell_type": "code",
   "execution_count": 11,
   "metadata": {},
   "outputs": [
    {
     "data": {
      "text/plain": [
       "DecisionTreeClassifier(class_weight=None, criterion='entropy', max_depth=4,\n",
       "                       max_features=None, max_leaf_nodes=None,\n",
       "                       min_impurity_decrease=0.0, min_impurity_split=None,\n",
       "                       min_samples_leaf=1, min_samples_split=2,\n",
       "                       min_weight_fraction_leaf=0.0, presort=False,\n",
       "                       random_state=None, splitter='best')"
      ]
     },
     "execution_count": 11,
     "metadata": {},
     "output_type": "execute_result"
    }
   ],
   "source": [
    "drugTree.fit(X_trainset,y_trainset)"
   ]
  },
  {
   "cell_type": "markdown",
   "metadata": {},
   "source": [
    "<div id=\"prediction\">"
   ]
  },
  {
   "cell_type": "markdown",
   "metadata": {},
   "source": [
    "## Prediction"
   ]
  },
  {
   "cell_type": "code",
   "execution_count": 12,
   "metadata": {},
   "outputs": [],
   "source": [
    "predTree = drugTree.predict(X_testset)"
   ]
  },
  {
   "cell_type": "markdown",
   "metadata": {},
   "source": [
    "## Evaluation"
   ]
  },
  {
   "cell_type": "code",
   "execution_count": 13,
   "metadata": {},
   "outputs": [
    {
     "name": "stdout",
     "output_type": "stream",
     "text": [
      "DecisionTrees's Accuracy:  0.9833333333333333\n"
     ]
    }
   ],
   "source": [
    "from sklearn import metrics\n",
    "import matplotlib.pyplot as plt\n",
    "print(\"DecisionTrees's Accuracy: \", metrics.accuracy_score(y_testset, predTree))"
   ]
  },
  {
   "cell_type": "code",
   "execution_count": 18,
   "metadata": {
    "collapsed": true
   },
   "outputs": [
    {
     "name": "stdout",
     "output_type": "stream",
     "text": [
      "Collecting package metadata (current_repodata.json): ...working... done\n",
      "Solving environment: ...working... \n",
      "Warning: 4 possible package resolutions (only showing differing packages):\n",
      "  - anaconda::ca-certificates-2019.5.15-0, anaconda::openssl-1.1.1c-he774522_1\n",
      "  - anaconda::ca-certificates-2019.5.15-0, defaults::openssl-1.1.1c-he774522_1\n",
      "  - anaconda::openssl-1.1.1c-he774522_1, defaults::ca-certificates-2019.5.15-0\n",
      "  - defaults::ca-certificates-2019.5.15-0, defaults::openssl-1.1.1c-he774522_1done\n",
      "\n",
      "## Package Plan ##\n",
      "\n",
      "  environment location: C:\\Users\\Lien Tran\\Anaconda3\n",
      "\n",
      "  added / updated specs:\n",
      "    - pydotplus\n",
      "\n",
      "\n",
      "The following packages will be downloaded:\n",
      "\n",
      "    package                    |            build\n",
      "    ---------------------------|-----------------\n",
      "    certifi-2019.6.16          |           py37_0         148 KB  conda-forge\n",
      "    conda-4.7.11               |           py37_0         3.0 MB  conda-forge\n",
      "    graphviz-2.38.0            |    h6538335_1011        41.0 MB  conda-forge\n",
      "    pydotplus-2.0.2            |             py_2          23 KB  conda-forge\n",
      "    ------------------------------------------------------------\n",
      "                                           Total:        44.1 MB\n",
      "\n",
      "The following NEW packages will be INSTALLED:\n",
      "\n",
      "  graphviz           conda-forge/win-64::graphviz-2.38.0-h6538335_1011\n",
      "  pydotplus          conda-forge/noarch::pydotplus-2.0.2-py_2\n",
      "\n",
      "The following packages will be SUPERSEDED by a higher-priority channel:\n",
      "\n",
      "  certifi                                          anaconda --> conda-forge\n",
      "  conda                                            anaconda --> conda-forge\n",
      "\n",
      "\n",
      "\n",
      "Downloading and Extracting Packages\n",
      "\n",
      "certifi-2019.6.16    | 148 KB    |            |   0% \n",
      "certifi-2019.6.16    | 148 KB    | ####3      |  43% \n",
      "certifi-2019.6.16    | 148 KB    | ########## | 100% \n",
      "\n",
      "pydotplus-2.0.2      | 23 KB     |            |   0% \n",
      "pydotplus-2.0.2      | 23 KB     | ######9    |  69% \n",
      "pydotplus-2.0.2      | 23 KB     | ########## | 100% \n",
      "\n",
      "graphviz-2.38.0      | 41.0 MB   |            |   0% \n",
      "graphviz-2.38.0      | 41.0 MB   |            |   0% \n",
      "graphviz-2.38.0      | 41.0 MB   |            |   0% \n",
      "graphviz-2.38.0      | 41.0 MB   | 1          |   1% \n",
      "graphviz-2.38.0      | 41.0 MB   | 2          |   3% \n",
      "graphviz-2.38.0      | 41.0 MB   | 3          |   4% \n",
      "graphviz-2.38.0      | 41.0 MB   | 5          |   5% \n",
      "graphviz-2.38.0      | 41.0 MB   | 6          |   6% \n",
      "graphviz-2.38.0      | 41.0 MB   | 7          |   7% \n",
      "graphviz-2.38.0      | 41.0 MB   | 8          |   8% \n",
      "graphviz-2.38.0      | 41.0 MB   | 9          |  10% \n",
      "graphviz-2.38.0      | 41.0 MB   | #          |  11% \n",
      "graphviz-2.38.0      | 41.0 MB   | #1         |  12% \n",
      "graphviz-2.38.0      | 41.0 MB   | #3         |  13% \n",
      "graphviz-2.38.0      | 41.0 MB   | #4         |  14% \n",
      "graphviz-2.38.0      | 41.0 MB   | #5         |  15% \n",
      "graphviz-2.38.0      | 41.0 MB   | #6         |  16% \n",
      "graphviz-2.38.0      | 41.0 MB   | #7         |  18% \n",
      "graphviz-2.38.0      | 41.0 MB   | #9         |  19% \n",
      "graphviz-2.38.0      | 41.0 MB   | ##         |  20% \n",
      "graphviz-2.38.0      | 41.0 MB   | ##1        |  22% \n",
      "graphviz-2.38.0      | 41.0 MB   | ##2        |  23% \n",
      "graphviz-2.38.0      | 41.0 MB   | ##4        |  24% \n",
      "graphviz-2.38.0      | 41.0 MB   | ##5        |  25% \n",
      "graphviz-2.38.0      | 41.0 MB   | ##6        |  27% \n",
      "graphviz-2.38.0      | 41.0 MB   | ##8        |  28% \n",
      "graphviz-2.38.0      | 41.0 MB   | ##9        |  30% \n",
      "graphviz-2.38.0      | 41.0 MB   | ###        |  31% \n",
      "graphviz-2.38.0      | 41.0 MB   | ###2       |  32% \n",
      "graphviz-2.38.0      | 41.0 MB   | ###3       |  33% \n",
      "graphviz-2.38.0      | 41.0 MB   | ###4       |  35% \n",
      "graphviz-2.38.0      | 41.0 MB   | ###5       |  36% \n",
      "graphviz-2.38.0      | 41.0 MB   | ###7       |  37% \n",
      "graphviz-2.38.0      | 41.0 MB   | ###8       |  38% \n",
      "graphviz-2.38.0      | 41.0 MB   | ###9       |  40% \n",
      "graphviz-2.38.0      | 41.0 MB   | ####       |  41% \n",
      "graphviz-2.38.0      | 41.0 MB   | ####2      |  42% \n",
      "graphviz-2.38.0      | 41.0 MB   | ####3      |  43% \n",
      "graphviz-2.38.0      | 41.0 MB   | ####4      |  45% \n",
      "graphviz-2.38.0      | 41.0 MB   | ####5      |  46% \n",
      "graphviz-2.38.0      | 41.0 MB   | ####7      |  47% \n",
      "graphviz-2.38.0      | 41.0 MB   | ####8      |  49% \n",
      "graphviz-2.38.0      | 41.0 MB   | ####9      |  50% \n",
      "graphviz-2.38.0      | 41.0 MB   | #####1     |  51% \n",
      "graphviz-2.38.0      | 41.0 MB   | #####2     |  52% \n",
      "graphviz-2.38.0      | 41.0 MB   | #####3     |  54% \n",
      "graphviz-2.38.0      | 41.0 MB   | #####4     |  55% \n",
      "graphviz-2.38.0      | 41.0 MB   | #####6     |  56% \n",
      "graphviz-2.38.0      | 41.0 MB   | #####7     |  57% \n",
      "graphviz-2.38.0      | 41.0 MB   | #####8     |  58% \n",
      "graphviz-2.38.0      | 41.0 MB   | #####9     |  59% \n",
      "graphviz-2.38.0      | 41.0 MB   | ######     |  61% \n",
      "graphviz-2.38.0      | 41.0 MB   | ######1    |  62% \n",
      "graphviz-2.38.0      | 41.0 MB   | ######2    |  63% \n",
      "graphviz-2.38.0      | 41.0 MB   | ######4    |  64% \n",
      "graphviz-2.38.0      | 41.0 MB   | ######5    |  65% \n",
      "graphviz-2.38.0      | 41.0 MB   | ######6    |  66% \n",
      "graphviz-2.38.0      | 41.0 MB   | ######7    |  67% \n",
      "graphviz-2.38.0      | 41.0 MB   | ######8    |  68% \n",
      "graphviz-2.38.0      | 41.0 MB   | ######9    |  70% \n",
      "graphviz-2.38.0      | 41.0 MB   | #######    |  71% \n",
      "graphviz-2.38.0      | 41.0 MB   | #######2   |  72% \n",
      "graphviz-2.38.0      | 41.0 MB   | #######3   |  74% \n",
      "graphviz-2.38.0      | 41.0 MB   | #######4   |  75% \n",
      "graphviz-2.38.0      | 41.0 MB   | #######5   |  76% \n",
      "graphviz-2.38.0      | 41.0 MB   | #######7   |  77% \n",
      "graphviz-2.38.0      | 41.0 MB   | #######8   |  78% \n",
      "graphviz-2.38.0      | 41.0 MB   | #######9   |  79% \n",
      "graphviz-2.38.0      | 41.0 MB   | ########   |  81% \n",
      "graphviz-2.38.0      | 41.0 MB   | ########2  |  82% \n",
      "graphviz-2.38.0      | 41.0 MB   | ########3  |  84% \n",
      "graphviz-2.38.0      | 41.0 MB   | ########4  |  85% \n",
      "graphviz-2.38.0      | 41.0 MB   | ########6  |  86% \n",
      "graphviz-2.38.0      | 41.0 MB   | ########7  |  87% \n",
      "graphviz-2.38.0      | 41.0 MB   | ########8  |  88% \n",
      "graphviz-2.38.0      | 41.0 MB   | ########8  |  89% \n",
      "graphviz-2.38.0      | 41.0 MB   | ########9  |  90% \n",
      "graphviz-2.38.0      | 41.0 MB   | #########  |  91% \n",
      "graphviz-2.38.0      | 41.0 MB   | #########1 |  92% \n",
      "graphviz-2.38.0      | 41.0 MB   | #########2 |  93% \n",
      "graphviz-2.38.0      | 41.0 MB   | #########3 |  94% \n",
      "graphviz-2.38.0      | 41.0 MB   | #########4 |  95% \n",
      "graphviz-2.38.0      | 41.0 MB   | #########6 |  96% \n",
      "graphviz-2.38.0      | 41.0 MB   | #########7 |  97% \n",
      "graphviz-2.38.0      | 41.0 MB   | #########8 |  98% \n",
      "graphviz-2.38.0      | 41.0 MB   | #########9 |  99% \n",
      "graphviz-2.38.0      | 41.0 MB   | ########## | 100% \n",
      "\n",
      "conda-4.7.11         | 3.0 MB    |            |   0% \n",
      "conda-4.7.11         | 3.0 MB    | 4          |   5% \n",
      "conda-4.7.11         | 3.0 MB    | ##2        |  23% \n",
      "conda-4.7.11         | 3.0 MB    | ###5       |  36% \n",
      "conda-4.7.11         | 3.0 MB    | #####1     |  51% \n",
      "conda-4.7.11         | 3.0 MB    | ######4    |  64% \n",
      "conda-4.7.11         | 3.0 MB    | #######5   |  76% \n",
      "conda-4.7.11         | 3.0 MB    | ########8  |  89% \n",
      "conda-4.7.11         | 3.0 MB    | ########## | 100% \n",
      "Preparing transaction: ...working... done\n",
      "Verifying transaction: ...working... done\n",
      "Executing transaction: ...working... done\n",
      "Collecting package metadata (current_repodata.json): ...working... done\n",
      "Solving environment: ...working... \n",
      "Warning: 4 possible package resolutions (only showing differing packages):\n",
      "  - anaconda::ca-certificates-2019.5.15-0, anaconda::openssl-1.1.1c-he774522_1\n",
      "  - anaconda::ca-certificates-2019.5.15-0, defaults::openssl-1.1.1c-he774522_1\n",
      "  - anaconda::openssl-1.1.1c-he774522_1, defaults::ca-certificates-2019.5.15-0\n",
      "  - defaults::ca-certificates-2019.5.15-0, defaults::openssl-1.1.1c-he774522_1done\n",
      "\n",
      "## Package Plan ##\n",
      "\n",
      "  environment location: C:\\Users\\Lien Tran\\Anaconda3\n",
      "\n",
      "  added / updated specs:\n",
      "    - python-graphviz\n",
      "\n",
      "\n",
      "The following packages will be downloaded:\n",
      "\n",
      "    package                    |            build\n",
      "    ---------------------------|-----------------\n",
      "    python-graphviz-0.11.1     |             py_1          18 KB  conda-forge\n",
      "    ------------------------------------------------------------\n",
      "                                           Total:          18 KB\n",
      "\n",
      "The following NEW packages will be INSTALLED:\n",
      "\n",
      "  python-graphviz    conda-forge/noarch::python-graphviz-0.11.1-py_1\n",
      "\n",
      "\n",
      "\n",
      "Downloading and Extracting Packages\n",
      "\n",
      "python-graphviz-0.11 | 18 KB     |            |   0% \n",
      "python-graphviz-0.11 | 18 KB     | #########1 |  91% \n",
      "python-graphviz-0.11 | 18 KB     | ########## | 100% \n",
      "Preparing transaction: ...working... done\n",
      "Verifying transaction: ...working... done\n",
      "Executing transaction: ...working... done\n"
     ]
    }
   ],
   "source": [
    "#!conda install -c conda-forge pydotplus -y\n",
    "#!conda install -c conda-forge python-graphviz -y"
   ]
  },
  {
   "cell_type": "markdown",
   "metadata": {},
   "source": [
    " Visualization"
   ]
  },
  {
   "cell_type": "code",
   "execution_count": 14,
   "metadata": {},
   "outputs": [
    {
     "name": "stderr",
     "output_type": "stream",
     "text": [
      "C:\\Users\\Lien Tran\\Anaconda3\\lib\\site-packages\\sklearn\\externals\\six.py:31: DeprecationWarning: The module is deprecated in version 0.21 and will be removed in version 0.23 since we've dropped support for Python 2.7. Please rely on the official version of six (https://pypi.org/project/six/).\n",
      "  \"(https://pypi.org/project/six/).\", DeprecationWarning)\n"
     ]
    }
   ],
   "source": [
    "from sklearn.externals.six import StringIO  \n",
    "from IPython.display import Image  \n",
    "from sklearn.tree import export_graphviz\n",
    "import pydotplus"
   ]
  },
  {
   "cell_type": "code",
   "execution_count": 15,
   "metadata": {},
   "outputs": [],
   "source": [
    "dot_data = StringIO()\n",
    "export_graphviz(drugTree, out_file=dot_data,  \n",
    "                filled=True, rounded=True,\n",
    "                special_characters=True)\n",
    "graph = pydotplus.graph_from_dot_data(dot_data.getvalue())  \n",
    "#Image(graph.create_png())"
   ]
  },
  {
   "cell_type": "code",
   "execution_count": 47,
   "metadata": {},
   "outputs": [
    {
     "data": {
      "text/plain": [
       "[Text(209.25, 195.696, 'X[4] <= 14.615\\nentropy = 1.929\\nsamples = 140\\nvalue = [16, 11, 11, 33, 69]'),\n",
       " Text(167.4, 152.208, 'X[2] <= 0.5\\nentropy = 1.832\\nsamples = 71\\nvalue = [16, 11, 11, 33, 0]'),\n",
       " Text(83.7, 108.72, 'X[0] <= 50.5\\nentropy = 0.975\\nsamples = 27\\nvalue = [16, 11, 0, 0, 0]'),\n",
       " Text(41.85, 65.232, 'entropy = 0.0\\nsamples = 16\\nvalue = [16, 0, 0, 0, 0]'),\n",
       " Text(125.55000000000001, 65.232, 'entropy = 0.0\\nsamples = 11\\nvalue = [0, 11, 0, 0, 0]'),\n",
       " Text(251.10000000000002, 108.72, 'X[3] <= 0.5\\nentropy = 0.811\\nsamples = 44\\nvalue = [0, 0, 11, 33, 0]'),\n",
       " Text(209.25, 65.232, 'X[2] <= 1.5\\nentropy = 0.998\\nsamples = 21\\nvalue = [0, 0, 11, 10, 0]'),\n",
       " Text(167.4, 21.744, 'entropy = 0.0\\nsamples = 11\\nvalue = [0, 0, 11, 0, 0]'),\n",
       " Text(251.10000000000002, 21.744, 'entropy = 0.0\\nsamples = 10\\nvalue = [0, 0, 0, 10, 0]'),\n",
       " Text(292.95, 65.232, 'entropy = 0.0\\nsamples = 23\\nvalue = [0, 0, 0, 23, 0]'),\n",
       " Text(251.10000000000002, 152.208, 'entropy = 0.0\\nsamples = 69\\nvalue = [0, 0, 0, 0, 69]')]"
      ]
     },
     "execution_count": 47,
     "metadata": {},
     "output_type": "execute_result"
    },
    {
     "data": {
      "image/png": "[encoded data removed]",
      "text/plain": [
       "<Figure size 432x288 with 1 Axes>"
      ]
     },
     "metadata": {
      "needs_background": "light"
     },
     "output_type": "display_data"
    }
   ],
   "source": [
    "tree.plot_tree(drugTree)"
   ]
  },
  {
   "cell_type": "code",
   "execution_count": null,
   "metadata": {},
   "outputs": [],
   "source": []
  }
 ],
 "metadata": {
  "kernelspec": {
   "display_name": "Python 3",
   "language": "python",
   "name": "python3"
  },
  "language_info": {
   "codemirror_mode": {
    "name": "ipython",
    "version": 3
   },
   "file_extension": ".py",
   "mimetype": "text/x-python",
   "name": "python",
   "nbconvert_exporter": "python",
   "pygments_lexer": "ipython3",
   "version": "3.7.3"
  }
 },
 "nbformat": 4,
 "nbformat_minor": 2
}
